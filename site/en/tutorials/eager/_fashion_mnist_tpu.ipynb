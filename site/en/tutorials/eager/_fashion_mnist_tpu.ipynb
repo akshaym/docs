{
  "nbformat": 4,
  "nbformat_minor": 0,
  "metadata": {
    "colab": {
      "name": "Fashion MNIST - final.ipynb",
      "version": "0.3.2",
      "provenance": [],
      "collapsed_sections": []
    },
    "kernelspec": {
      "name": "python3",
      "display_name": "Python 3"
    },
    "accelerator": "TPU"
  },
  "cells": [
    {
      "metadata": {
        "id": "L0fvqJHvuUQg",
        "colab_type": "text"
      },
      "cell_type": "markdown",
      "source": [
        "# Setup: Import libraries, enable eager execution, and make the runtime aware of remote TPU devices"
      ]
    },
    {
      "metadata": {
        "id": "4WC1w78EBJT3",
        "colab_type": "code",
        "cellView": "code",
        "colab": {}
      },
      "cell_type": "code",
      "source": [
        "# TensorFlow and tf.keras\n",
        "import tensorflow as tf\n",
        "\n",
        "import os \n",
        "import numpy as np\n",
        "\n",
        "from tensorflow import keras\n",
        "\n",
        "tf.enable_eager_execution()\n",
        "\n",
        "# Make the runtime aware of a remote server which has access to TPUs.\n",
        "tf.contrib.eager.connect_to_remote_host(os.environ['COLAB_TPU_ADDR'])"
      ],
      "execution_count": 0,
      "outputs": []
    },
    {
      "metadata": {
        "id": "67VB3bq0ucP3",
        "colab_type": "text"
      },
      "cell_type": "markdown",
      "source": [
        "# The list of available devices\n",
        "\n",
        "We print all devices that the tensorflow runtime is aware of, and can schedule operations on.\n"
      ]
    },
    {
      "metadata": {
        "id": "_Oo91vSFHcwE",
        "colab_type": "code",
        "outputId": "36871bfe-77f1-4954-f65d-edd159349471",
        "colab": {
          "base_uri": "https://localhost:8080/",
          "height": 287
        }
      },
      "cell_type": "code",
      "source": [
        "DEVICES = tf.contrib.eager.list_devices()\n",
        "print(\"Available devices:\")\n",
        "for i, device in enumerate(DEVICES):\n",
        "  print(\"%d) %s\" % (i, device))"
      ],
      "execution_count": 2,
      "outputs": [
        {
          "output_type": "stream",
          "text": [
            "Available devices:\n",
            "0) /job:worker/replica:0/task:0/device:CPU:0\n",
            "1) /job:worker/replica:0/task:0/device:XLA_CPU:0\n",
            "2) /job:worker/replica:0/task:1/device:CPU:0\n",
            "3) /job:worker/replica:0/task:1/device:XLA_CPU:0\n",
            "4) /job:worker/replica:0/task:1/device:XLA_GPU:0\n",
            "5) /job:worker/replica:0/task:1/device:TPU:0\n",
            "6) /job:worker/replica:0/task:1/device:TPU:1\n",
            "7) /job:worker/replica:0/task:1/device:TPU:2\n",
            "8) /job:worker/replica:0/task:1/device:TPU:3\n",
            "9) /job:worker/replica:0/task:1/device:TPU:4\n",
            "10) /job:worker/replica:0/task:1/device:TPU:5\n",
            "11) /job:worker/replica:0/task:1/device:TPU:6\n",
            "12) /job:worker/replica:0/task:1/device:TPU:7\n",
            "13) /job:worker/replica:0/task:1/device:TPU_SYSTEM:0\n"
          ],
          "name": "stdout"
        }
      ]
    },
    {
      "metadata": {
        "id": "levQr5uxHnv7",
        "colab_type": "code",
        "colab": {}
      },
      "cell_type": "code",
      "source": [
        "# Alias important devices, and a few miscellaneous constants\n",
        "\n",
        "LOCAL_CPU = \"/job:worker/replica:0/task:0/device:CPU:0\" # Task 0 is always local\n",
        "REMOTE_CPU = \"/job:worker/replica:0/task:1/device:CPU:0\" # Task 1 is remote\n",
        "REMOTE_TPU = \"/job:worker/replica:0/task:1/device:TPU:0\" # TPU core 0\n",
        "\n",
        "LABEL_NAMES = ['t_shirt', 'trouser', 'pullover', 'dress', 'coat', 'sandal', 'shirt', 'sneaker', 'bag', 'ankle_boots']\n",
        "\n",
        "BATCH_SIZE = 1024\n",
        "NUM_STEPS = 10"
      ],
      "execution_count": 0,
      "outputs": []
    },
    {
      "metadata": {
        "id": "c43FRTg8uodn",
        "colab_type": "text"
      },
      "cell_type": "markdown",
      "source": [
        "# Download fashion MNIST data"
      ]
    },
    {
      "metadata": {
        "id": "VpJ9j-K_t-rR",
        "colab_type": "code",
        "colab": {}
      },
      "cell_type": "code",
      "source": [
        "def get_dataset(batch_size):\n",
        "  \"\"\"Function that returns a train and test dataset from keras fashion MNIST data.\"\"\"\n",
        "  # Get data\n",
        "  (train_images,\n",
        "   train_labels), (test_images,\n",
        "                   test_labels) = keras.datasets.fashion_mnist.load_data()\n",
        "\n",
        "  # Preprocess\n",
        "  train_images = train_images / 255.0\n",
        "  test_images = test_images / 255.0\n",
        "\n",
        "  # By default this returns float64 for the image dtype (after preprocessing \n",
        "  # above), and uint8 for the label. Neither of these\n",
        "  # dtypes is supported on TPUs, so we cast to the desired type.\n",
        "  train_images = train_images.astype(np.float32)\n",
        "  test_images = test_images.astype(np.float32)\n",
        "  train_labels = train_labels.astype(np.int64)\n",
        "  test_labels = test_labels.astype(np.int64)\n",
        "\n",
        "  # Since images are black and white, they are represented as 2D arrays,\n",
        "  # but Conv2D expects a separate dimension for channels, so add it.\n",
        "  train_images = np.expand_dims(train_images, -1)\n",
        "  test_images = np.expand_dims(test_images, -1)\n",
        "\n",
        "  print(\"Returning train dataset with %d images, and test dataset with %d images\" % (train_images.shape[0], test_images.shape[0]))\n",
        "\n",
        "  train_dataset = tf.data.Dataset.from_tensor_slices(\n",
        "      (train_images, train_labels)).shuffle(10000).repeat().batch(batch_size)\n",
        "  test_dataset = tf.data.Dataset.from_tensor_slices(\n",
        "    (test_images, test_labels)).shuffle(10000).repeat().batch(batch_size)\n",
        "  return (train_dataset, test_dataset)"
      ],
      "execution_count": 0,
      "outputs": []
    },
    {
      "metadata": {
        "id": "DtgWRgWGvnG9",
        "colab_type": "code",
        "outputId": "a6b8c4a6-f24d-4a76-ba45-799c7df4a21b",
        "colab": {
          "base_uri": "https://localhost:8080/",
          "height": 670
        }
      },
      "cell_type": "code",
      "source": [
        "# Download the data to the local CPU, and visualize a few images to make sure things look OK.\n",
        "train_dataset, test_dataset = get_dataset(batch_size=16)\n",
        "\n",
        "from matplotlib import pyplot\n",
        "%matplotlib inline\n",
        "\n",
        "def plot_predictions(images, predictions):\n",
        "  n = int(images.shape[0])\n",
        "  nc = int(np.ceil(n / 4))\n",
        "  f, axes = pyplot.subplots(nc, 4)\n",
        "  for i in range(nc * 4):\n",
        "    if i > n:\n",
        "      continue\n",
        "\n",
        "    y = i // 4\n",
        "    x = i % 4\n",
        "    axes[x, y].axis('off')\n",
        "    \n",
        "    label = LABEL_NAMES[predictions[i]]\n",
        "    axes[x, y].imshow(images[i].numpy().squeeze())\n",
        "    axes[x, y].text(0.5, 0.5, label, fontsize=14)\n",
        "\n",
        "  pyplot.gcf().set_size_inches(8, 8)  \n",
        "\n",
        "with tf.device(LOCAL_CPU):\n",
        "  test_it = iter(test_dataset)\n",
        "\n",
        "print(\"Some test images and labels:\")\n",
        "plot_predictions(*test_it.next())"
      ],
      "execution_count": 5,
      "outputs": [
        {
          "output_type": "stream",
          "text": [
            "Downloading data from https://storage.googleapis.com/tensorflow/tf-keras-datasets/train-labels-idx1-ubyte.gz\n",
            "32768/29515 [=================================] - 0s 0us/step\n",
            "Downloading data from https://storage.googleapis.com/tensorflow/tf-keras-datasets/train-images-idx3-ubyte.gz\n",
            "26427392/26421880 [==============================] - 2s 0us/step\n",
            "Downloading data from https://storage.googleapis.com/tensorflow/tf-keras-datasets/t10k-labels-idx1-ubyte.gz\n",
            "8192/5148 [===============================================] - 0s 0us/step\n",
            "Downloading data from https://storage.googleapis.com/tensorflow/tf-keras-datasets/t10k-images-idx3-ubyte.gz\n",
            "4423680/4422102 [==============================] - 0s 0us/step\n",
            "Returning train dataset with 60000 images, and test dataset with 10000 images\n",
            "Some test images and labels:\n"
          ],
          "name": "stdout"
        },
        {
          "output_type": "display_data",
          "data": {
            "image/png": "[encoded data removed]",
            "text/plain": [
              "<matplotlib.figure.Figure at 0x7fe8c6016358>"
            ]
          },
          "metadata": {
            "tags": []
          }
        }
      ]
    },
    {
      "metadata": {
        "id": "1XqgGGrizhRN",
        "colab_type": "text"
      },
      "cell_type": "markdown",
      "source": [
        "# Model definition"
      ]
    },
    {
      "metadata": {
        "id": "evTf804lIhvy",
        "colab_type": "code",
        "colab": {}
      },
      "cell_type": "code",
      "source": [
        "def get_model(input_shape=[28, 28, 1]):\n",
        "  model = tf.keras.models.Sequential()\n",
        "  model.add(tf.keras.layers.BatchNormalization(input_shape=input_shape))\n",
        "  model.add(tf.keras.layers.Conv2D(64, (5, 5), padding='same', activation='elu'))\n",
        "  model.add(tf.keras.layers.MaxPooling2D(pool_size=(2, 2), strides=(2,2)))\n",
        "  model.add(tf.keras.layers.Dropout(0.25))\n",
        "\n",
        "  model.add(tf.keras.layers.BatchNormalization(input_shape=input_shape))\n",
        "  model.add(tf.keras.layers.Conv2D(128, (5, 5), padding='same', activation='elu'))\n",
        "  model.add(tf.keras.layers.MaxPooling2D(pool_size=(2, 2)))\n",
        "  model.add(tf.keras.layers.Dropout(0.25))\n",
        "\n",
        "  model.add(tf.keras.layers.BatchNormalization(input_shape=input_shape))\n",
        "  model.add(tf.keras.layers.Conv2D(256, (5, 5), padding='same', activation='elu'))\n",
        "  model.add(tf.keras.layers.MaxPooling2D(pool_size=(2, 2), strides=(2,2)))\n",
        "  model.add(tf.keras.layers.Dropout(0.25))\n",
        "\n",
        "  model.add(tf.keras.layers.Flatten())\n",
        "  model.add(tf.keras.layers.Dense(256))\n",
        "  model.add(tf.keras.layers.Activation('elu'))\n",
        "  model.add(tf.keras.layers.Dropout(0.5))\n",
        "  model.add(tf.keras.layers.Dense(10))\n",
        "  model.add(tf.keras.layers.Activation('softmax'))\n",
        "\n",
        "  model.compile(\n",
        "    optimizer=tf.train.AdamOptimizer(learning_rate=1e-3, ),\n",
        "    loss=tf.keras.losses.sparse_categorical_crossentropy,\n",
        "    metrics=['sparse_categorical_accuracy']\n",
        "  )\n",
        "\n",
        "  return model"
      ],
      "execution_count": 0,
      "outputs": []
    },
    {
      "metadata": {
        "id": "2W27GuVEzpTV",
        "colab_type": "text"
      },
      "cell_type": "markdown",
      "source": [
        "# Running eagerly on the remote CPU device\n",
        "\n",
        "This demonstrates running ops singly on a remote CPU, or defunning them and running a set of them together."
      ]
    },
    {
      "metadata": {
        "id": "Fst-2uZt18_J",
        "colab_type": "code",
        "outputId": "56d0c626-d578-4f22-88d3-6fdcc39b39d4",
        "colab": {
          "base_uri": "https://localhost:8080/",
          "height": 107
        }
      },
      "cell_type": "code",
      "source": [
        "with tf.device(REMOTE_CPU):\n",
        "  remote_train_dataset, remote_test_dataset = get_dataset(BATCH_SIZE)\n",
        "\n",
        "  model = get_model()\n",
        "\n",
        "  model.fit(remote_train_dataset, steps_per_epoch=NUM_STEPS)\n",
        "\n",
        "# Defun the model call\n",
        "with tf.device(REMOTE_CPU):\n",
        "  model.call = tf.contrib.eager.defun(model.call)\n",
        "\n",
        "  model.fit(remote_train_dataset, steps_per_epoch=NUM_STEPS)"
      ],
      "execution_count": 7,
      "outputs": [
        {
          "output_type": "stream",
          "text": [
            "Returning train dataset with 60000 images, and test dataset with 10000 images\n",
            "Epoch 1/1\n",
            "10/10 [==============================] - 17s 2s/step - loss: 3.6720 - sparse_categorical_accuracy: 0.4224\n",
            "Epoch 1/1\n",
            "10/10 [==============================] - 17s 2s/step - loss: 2.1227 - sparse_categorical_accuracy: 0.5997\n"
          ],
          "name": "stdout"
        }
      ]
    },
    {
      "metadata": {
        "id": "WqXSUyec5Bnz",
        "colab_type": "text"
      },
      "cell_type": "markdown",
      "source": [
        "# Training eagerly on a a single TPU core\n",
        "\n",
        "This trains remotely on a TPU core, instead of the CPU. Notice that the code is __identical__ to above save the device annotation. We up the number of steps a little since training is faster on the TPU.\n",
        "\n",
        "Defunning model.call allows us to bypass some added TPU overhead which speeds up the computation further."
      ]
    },
    {
      "metadata": {
        "id": "AxAjoHMzrib1",
        "colab_type": "code",
        "outputId": "3ba4a222-e544-44a4-b488-a6538a701c8a",
        "colab": {
          "base_uri": "https://localhost:8080/",
          "height": 107
        }
      },
      "cell_type": "code",
      "source": [
        "with tf.device(REMOTE_TPU):\n",
        "  remote_train_dataset, remote_test_dataset = get_dataset(BATCH_SIZE)\n",
        "\n",
        "  model = get_model()\n",
        "\n",
        "  model.fit(remote_train_dataset, steps_per_epoch=NUM_STEPS)\n",
        "\n",
        "# Defun the model call\n",
        "with tf.device(REMOTE_TPU):\n",
        "  model.call = tf.contrib.eager.defun(model.call)\n",
        "\n",
        "  model.fit(remote_train_dataset, steps_per_epoch=NUM_STEPS)"
      ],
      "execution_count": 8,
      "outputs": [
        {
          "output_type": "stream",
          "text": [
            "Returning train dataset with 60000 images, and test dataset with 10000 images\n",
            "Epoch 1/1\n",
            "10/10 [==============================] - 14s 1s/step - loss: 2.9853 - sparse_categorical_accuracy: 0.4215\n",
            "Epoch 1/1\n",
            "10/10 [==============================] - 4s 354ms/step - loss: 1.1110 - sparse_categorical_accuracy: 0.6377\n"
          ],
          "name": "stdout"
        }
      ]
    },
    {
      "metadata": {
        "id": "G6M0Czp_5Z7S",
        "colab_type": "text"
      },
      "cell_type": "markdown",
      "source": [
        "# Training on the TPU, driving all 8 cores \n",
        "\n",
        "We're ready to train. We first construct our model on the TPU, and compile it. Note that we're using the same model that we used above.\n",
        "\n",
        "Here we demonstrate that we can use a generator function and `fit_generator` to train the model.  You can also pass in `x_train` and `y_train` to `tpu_model.fit()` instead.\n",
        "\n",
        "Instead of using eager mode, this creates a graph based model (note that the same keras model definition can be used in both eager and graph modes), and executes it as a graph. "
      ]
    },
    {
      "metadata": {
        "id": "RxOod7tw5kjx",
        "colab_type": "code",
        "outputId": "117d4f88-7dca-4968-a26e-e7b4443cf155",
        "colab": {
          "base_uri": "https://localhost:8080/",
          "height": 1009
        }
      },
      "cell_type": "code",
      "source": [
        "with tf.Graph().as_default():\n",
        "  (x_train, y_train), (x_test, y_test) = tf.keras.datasets.fashion_mnist.load_data()\n",
        "  x_train = np.expand_dims(x_train, -1)\n",
        "  x_test = np.expand_dims(x_test, -1)\n",
        "\n",
        "  tpu_model = tf.contrib.tpu.keras_to_tpu_model(\n",
        "      get_model(),\n",
        "      strategy=tf.contrib.tpu.TPUDistributionStrategy(\n",
        "          tf.contrib.cluster_resolver.TPUClusterResolver(tpu='grpc://' + os.environ['COLAB_TPU_ADDR'])\n",
        "      )\n",
        "  )\n",
        "  tpu_model.compile(\n",
        "      optimizer=tf.train.AdamOptimizer(learning_rate=1e-3, ),\n",
        "      loss=tf.keras.losses.sparse_categorical_crossentropy,\n",
        "      metrics=['sparse_categorical_accuracy']\n",
        "  )\n",
        "\n",
        "  def train_gen(batch_size):\n",
        "    while True:\n",
        "      offset = np.random.randint(0, x_train.shape[0] - batch_size)\n",
        "      yield x_train[offset:offset+batch_size], y_train[offset:offset + batch_size]\n",
        "      \n",
        "  tpu_model.fit_generator(\n",
        "      train_gen(1024),\n",
        "      epochs=10,\n",
        "      steps_per_epoch=NUM_STEPS*10,\n",
        "      validation_data=(x_test, y_test),\n",
        "  )"
      ],
      "execution_count": 9,
      "outputs": [
        {
          "output_type": "stream",
          "text": [
            "INFO:tensorflow:Querying Tensorflow master (b'grpc://10.94.182.98:8470') for TPU system metadata.\n",
            "INFO:tensorflow:Found TPU system:\n",
            "INFO:tensorflow:*** Num TPU Cores: 8\n",
            "INFO:tensorflow:*** Num TPU Workers: 1\n",
            "INFO:tensorflow:*** Num TPU Cores Per Worker: 8\n",
            "INFO:tensorflow:*** Available Device: _DeviceAttributes(/job:worker/replica:0/task:0/device:CPU:0, CPU, -1, 13786388346594174033)\n",
            "INFO:tensorflow:*** Available Device: _DeviceAttributes(/job:worker/replica:0/task:0/device:XLA_CPU:0, XLA_CPU, 17179869184, 17542506126884251846)\n",
            "INFO:tensorflow:*** Available Device: _DeviceAttributes(/job:worker/replica:0/task:0/device:XLA_GPU:0, XLA_GPU, 17179869184, 11636637250159123212)\n",
            "INFO:tensorflow:*** Available Device: _DeviceAttributes(/job:worker/replica:0/task:0/device:TPU:0, TPU, 17179869184, 17796995217707805584)\n",
            "INFO:tensorflow:*** Available Device: _DeviceAttributes(/job:worker/replica:0/task:0/device:TPU:1, TPU, 17179869184, 16858961831205942326)\n",
            "INFO:tensorflow:*** Available Device: _DeviceAttributes(/job:worker/replica:0/task:0/device:TPU:2, TPU, 17179869184, 10503668077040906137)\n",
            "INFO:tensorflow:*** Available Device: _DeviceAttributes(/job:worker/replica:0/task:0/device:TPU:3, TPU, 17179869184, 16935892052771182550)\n",
            "INFO:tensorflow:*** Available Device: _DeviceAttributes(/job:worker/replica:0/task:0/device:TPU:4, TPU, 17179869184, 12550165231627452973)\n",
            "INFO:tensorflow:*** Available Device: _DeviceAttributes(/job:worker/replica:0/task:0/device:TPU:5, TPU, 17179869184, 238638543020334387)\n",
            "INFO:tensorflow:*** Available Device: _DeviceAttributes(/job:worker/replica:0/task:0/device:TPU:6, TPU, 17179869184, 11555559569486737210)\n",
            "INFO:tensorflow:*** Available Device: _DeviceAttributes(/job:worker/replica:0/task:0/device:TPU:7, TPU, 17179869184, 16867352897767742032)\n",
            "INFO:tensorflow:*** Available Device: _DeviceAttributes(/job:worker/replica:0/task:0/device:TPU_SYSTEM:0, TPU_SYSTEM, 17179869184, 3154590609732986845)\n",
            "WARNING:tensorflow:tpu_model (from tensorflow.contrib.tpu.python.tpu.keras_support) is experimental and may change or be removed at any time, and without warning.\n",
            "Epoch 1/10\n",
            "INFO:tensorflow:New input shapes; (re-)compiling: mode=train (# of cores 8), [TensorSpec(shape=(128,), dtype=tf.int32, name='core_id0'), TensorSpec(shape=(128, 28, 28, 1), dtype=tf.float32, name='batch_normalization_input_10'), TensorSpec(shape=(128, 1), dtype=tf.float32, name='activation_1_target_50')]\n",
            "INFO:tensorflow:Overriding default placeholder.\n",
            "INFO:tensorflow:Remapping placeholder for batch_normalization_input\n",
            "INFO:tensorflow:Started compiling\n",
            "INFO:tensorflow:Finished compiling. Time elapsed: 3.388733148574829 secs\n",
            "INFO:tensorflow:Setting weights on TPU model.\n",
            " 99/100 [============================>.] - ETA: 0s - loss: 0.9380 - sparse_categorical_accuracy: 0.7273INFO:tensorflow:New input shapes; (re-)compiling: mode=eval (# of cores 8), [TensorSpec(shape=(128,), dtype=tf.int32, name='core_id_10'), TensorSpec(shape=(128, 28, 28, 1), dtype=tf.float32, name='batch_normalization_input_10'), TensorSpec(shape=(128, 1), dtype=tf.float32, name='activation_1_target_50')]\n",
            "INFO:tensorflow:Overriding default placeholder.\n",
            "INFO:tensorflow:Remapping placeholder for batch_normalization_input\n",
            "INFO:tensorflow:Started compiling\n",
            "INFO:tensorflow:Finished compiling. Time elapsed: 1.8889026641845703 secs\n",
            "INFO:tensorflow:New input shapes; (re-)compiling: mode=eval (# of cores 8), [TensorSpec(shape=(98,), dtype=tf.int32, name='core_id_10'), TensorSpec(shape=(98, 28, 28, 1), dtype=tf.float32, name='batch_normalization_input_10'), TensorSpec(shape=(98, 1), dtype=tf.float32, name='activation_1_target_50')]\n",
            "INFO:tensorflow:Overriding default placeholder.\n",
            "INFO:tensorflow:Remapping placeholder for batch_normalization_input\n",
            "INFO:tensorflow:Started compiling\n",
            "INFO:tensorflow:Finished compiling. Time elapsed: 1.916254997253418 secs\n",
            "100/100 [==============================] - 19s 192ms/step - loss: 0.9335 - sparse_categorical_accuracy: 0.7283 - val_loss: 1.3480 - val_sparse_categorical_accuracy: 0.5242\n",
            "Epoch 2/10\n",
            "100/100 [==============================] - 7s 71ms/step - loss: 0.4248 - sparse_categorical_accuracy: 0.8522 - val_loss: 0.7807 - val_sparse_categorical_accuracy: 0.7228\n",
            "Epoch 3/10\n",
            "100/100 [==============================] - 7s 70ms/step - loss: 0.3504 - sparse_categorical_accuracy: 0.8758 - val_loss: 0.4869 - val_sparse_categorical_accuracy: 0.8153\n",
            "Epoch 4/10\n",
            "100/100 [==============================] - 7s 70ms/step - loss: 0.3041 - sparse_categorical_accuracy: 0.8919 - val_loss: 0.4140 - val_sparse_categorical_accuracy: 0.8382\n",
            "Epoch 5/10\n",
            "100/100 [==============================] - 7s 71ms/step - loss: 0.2588 - sparse_categorical_accuracy: 0.9058 - val_loss: 0.3047 - val_sparse_categorical_accuracy: 0.8878\n",
            "Epoch 6/10\n",
            "100/100 [==============================] - 7s 72ms/step - loss: 0.2338 - sparse_categorical_accuracy: 0.9146 - val_loss: 0.2786 - val_sparse_categorical_accuracy: 0.8986\n",
            "Epoch 7/10\n",
            "100/100 [==============================] - 7s 72ms/step - loss: 0.2057 - sparse_categorical_accuracy: 0.9246 - val_loss: 0.2548 - val_sparse_categorical_accuracy: 0.9081\n",
            "Epoch 8/10\n",
            "100/100 [==============================] - 7s 71ms/step - loss: 0.1862 - sparse_categorical_accuracy: 0.9304 - val_loss: 0.2436 - val_sparse_categorical_accuracy: 0.9144\n",
            "Epoch 9/10\n",
            "100/100 [==============================] - 7s 72ms/step - loss: 0.1667 - sparse_categorical_accuracy: 0.9385 - val_loss: 0.2305 - val_sparse_categorical_accuracy: 0.9191\n",
            "Epoch 10/10\n",
            "100/100 [==============================] - 7s 71ms/step - loss: 0.1571 - sparse_categorical_accuracy: 0.9424 - val_loss: 0.2328 - val_sparse_categorical_accuracy: 0.9234\n"
          ],
          "name": "stdout"
        }
      ]
    }
  ]
}